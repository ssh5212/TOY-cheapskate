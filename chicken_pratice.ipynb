{
 "cells": [
  {
   "cell_type": "markdown",
   "metadata": {},
   "source": [
    "# 치킨의 최고가 최저가 확인\n",
    "빵형의 개발도상국 Korea-Chicken-Database 예제\n",
    "\n",
    "원본 링크 - https://github.com/kairess/Korea-Chicken-Database"
   ]
  },
  {
   "cell_type": "markdown",
   "metadata": {},
   "source": [
    "카카오 API - Keyword Search URL을 이용함"
   ]
  },
  {
   "cell_type": "markdown",
   "metadata": {},
   "source": [
    "## Keyword Search URL 사용법 연습"
   ]
  },
  {
   "cell_type": "code",
   "execution_count": 1,
   "metadata": {},
   "outputs": [],
   "source": [
    "import requests\n",
    "from tqdm import tqdm\n",
    "import time"
   ]
  },
  {
   "cell_type": "code",
   "execution_count": 2,
   "metadata": {},
   "outputs": [
    {
     "name": "stdout",
     "output_type": "stream",
     "text": [
      "dict_keys(['documents', 'meta'])\n"
     ]
    }
   ],
   "source": [
    "app_key = 'KakaoAK ' + '__API_키_입력__' # REST API key\n",
    "\n",
    "url = 'https://dapi.kakao.com/v2/local/search/keyword.json' # keyword search url \n",
    "\n",
    "params = {\n",
    "    'query': '치킨', # 키워드\n",
    "    'category_group_code': 'FD6', # 카테고리 코드 (음식점)\n",
    "    'page': 45 # 45번째 페이지에서 받아옴\n",
    "}\n",
    "\n",
    "headers = {\n",
    "    'Authorization': app_key\n",
    "}\n",
    "\n",
    "res = requests.get(url, params=params, headers=headers).json() # 데이터를 불러올 때 requests.get을 통해 json 형태로 받음\n",
    "\n",
    "print(res.keys()) # output -> [documet, meta]"
   ]
  },
  {
   "cell_type": "code",
   "execution_count": 3,
   "metadata": {},
   "outputs": [
    {
     "data": {
      "text/plain": [
       "[{'address_name': '대구 중구 삼덕동1가 62-1',\n",
       "  'category_group_code': 'FD6',\n",
       "  'category_group_name': '음식점',\n",
       "  'category_name': '음식점 > 치킨',\n",
       "  'distance': '',\n",
       "  'id': '1767432954',\n",
       "  'phone': '053-252-5575',\n",
       "  'place_name': '삼덕통닭 동성로점',\n",
       "  'place_url': 'http://place.map.kakao.com/1767432954',\n",
       "  'road_address_name': '대구 중구 동성로5길 89',\n",
       "  'x': '128.59942495762826',\n",
       "  'y': '35.867132464640896'},\n",
       " {'address_name': '서울 관악구 봉천동 1679-6',\n",
       "  'category_group_code': 'FD6',\n",
       "  'category_group_name': '음식점',\n",
       "  'category_name': '음식점 > 치킨',\n",
       "  'distance': '',\n",
       "  'id': '25592312',\n",
       "  'phone': '02-872-0029',\n",
       "  'place_name': '동네아저씨치킨',\n",
       "  'place_url': 'http://place.map.kakao.com/25592312',\n",
       "  'road_address_name': '서울 관악구 행운2길 16',\n",
       "  'x': '126.959882391254',\n",
       "  'y': '37.4792256509999'},\n",
       " {'address_name': '부산 금정구 장전동 146-2',\n",
       "  'category_group_code': 'FD6',\n",
       "  'category_group_name': '음식점',\n",
       "  'category_name': '음식점 > 치킨',\n",
       "  'distance': '',\n",
       "  'id': '8860320',\n",
       "  'phone': '051-514-3885',\n",
       "  'place_name': '뉴숯불통닭 본점',\n",
       "  'place_url': 'http://place.map.kakao.com/8860320',\n",
       "  'road_address_name': '부산 금정구 금강로335번길 55',\n",
       "  'x': '129.0834297751688',\n",
       "  'y': '35.23775776866604'},\n",
       " {'address_name': '서울 영등포구 문래동4가 7-5',\n",
       "  'category_group_code': 'FD6',\n",
       "  'category_group_name': '음식점',\n",
       "  'category_name': '음식점 > 치킨',\n",
       "  'distance': '',\n",
       "  'id': '8477571',\n",
       "  'phone': '02-2637-3480',\n",
       "  'place_name': '문래동원조마늘통닭 문래본점',\n",
       "  'place_url': 'http://place.map.kakao.com/8477571',\n",
       "  'road_address_name': '서울 영등포구 도림로 469-1',\n",
       "  'x': '126.891184755124',\n",
       "  'y': '37.5158785304841'},\n",
       " {'address_name': '서울 서초구 잠원동 72-2',\n",
       "  'category_group_code': 'FD6',\n",
       "  'category_group_name': '음식점',\n",
       "  'category_name': '음식점 > 치킨',\n",
       "  'distance': '',\n",
       "  'id': '8611462',\n",
       "  'phone': '02-596-5990',\n",
       "  'place_name': '한신치킨',\n",
       "  'place_url': 'http://place.map.kakao.com/8611462',\n",
       "  'road_address_name': '서울 서초구 신반포로23길 30',\n",
       "  'x': '127.003565002416',\n",
       "  'y': '37.5087818347685'},\n",
       " {'address_name': '대구 중구 동성로3가 59-1',\n",
       "  'category_group_code': 'FD6',\n",
       "  'category_group_name': '음식점',\n",
       "  'category_name': '음식점 > 치킨',\n",
       "  'distance': '',\n",
       "  'id': '8861783',\n",
       "  'phone': '053-253-0070',\n",
       "  'place_name': '뉴욕통닭',\n",
       "  'place_url': 'http://place.map.kakao.com/8861783',\n",
       "  'road_address_name': '대구 중구 종로 12',\n",
       "  'x': '128.592373837674',\n",
       "  'y': '35.8668017150533'},\n",
       " {'address_name': '서울 종로구 관철동 44-1',\n",
       "  'category_group_code': 'FD6',\n",
       "  'category_group_name': '음식점',\n",
       "  'category_name': '음식점 > 치킨',\n",
       "  'distance': '',\n",
       "  'id': '26884480',\n",
       "  'phone': '02-722-9992',\n",
       "  'place_name': '미친닭 종각본점',\n",
       "  'place_url': 'http://place.map.kakao.com/26884480',\n",
       "  'road_address_name': '서울 종로구 우정국로2길 16',\n",
       "  'x': '126.983908263011',\n",
       "  'y': '37.5694541415083'},\n",
       " {'address_name': '전북 군산시 명산동 18-2',\n",
       "  'category_group_code': 'FD6',\n",
       "  'category_group_name': '음식점',\n",
       "  'category_name': '음식점 > 치킨',\n",
       "  'distance': '',\n",
       "  'id': '840463250',\n",
       "  'phone': '063-464-5755',\n",
       "  'place_name': '군산통닭',\n",
       "  'place_url': 'http://place.map.kakao.com/840463250',\n",
       "  'road_address_name': '전북 군산시 월명로 465',\n",
       "  'x': '126.70983401368832',\n",
       "  'y': '35.983255200780974'},\n",
       " {'address_name': '대구 남구 대명동 490-2',\n",
       "  'category_group_code': 'FD6',\n",
       "  'category_group_name': '음식점',\n",
       "  'category_name': '음식점 > 치킨',\n",
       "  'distance': '',\n",
       "  'id': '27081645',\n",
       "  'phone': '053-621-1055',\n",
       "  'place_name': '앞산옛날통닭',\n",
       "  'place_url': 'http://place.map.kakao.com/27081645',\n",
       "  'road_address_name': '대구 남구 현충로 61',\n",
       "  'x': '128.579604377125',\n",
       "  'y': '35.8383390716331'},\n",
       " {'address_name': '광주 서구 양동 5-1',\n",
       "  'category_group_code': 'FD6',\n",
       "  'category_group_name': '음식점',\n",
       "  'category_name': '음식점 > 치킨',\n",
       "  'distance': '',\n",
       "  'id': '10549162',\n",
       "  'phone': '062-369-8916',\n",
       "  'place_name': '수일통닭 본점',\n",
       "  'place_url': 'http://place.map.kakao.com/10549162',\n",
       "  'road_address_name': '광주 서구 천변좌로262번길 1-1',\n",
       "  'x': '126.904317710592',\n",
       "  'y': '35.1527440471515'},\n",
       " {'address_name': '제주특별자치도 제주시 연동 281-17',\n",
       "  'category_group_code': 'FD6',\n",
       "  'category_group_name': '음식점',\n",
       "  'category_name': '음식점 > 치킨',\n",
       "  'distance': '',\n",
       "  'id': '18839272',\n",
       "  'phone': '064-747-6801',\n",
       "  'place_name': '모니카옛날통닭',\n",
       "  'place_url': 'http://place.map.kakao.com/18839272',\n",
       "  'road_address_name': '제주특별자치도 제주시 신대로10길 33',\n",
       "  'x': '126.49314817001',\n",
       "  'y': '33.4907725375505'},\n",
       " {'address_name': '경기 수원시 영통구 하동 1019',\n",
       "  'category_group_code': 'FD6',\n",
       "  'category_group_name': '음식점',\n",
       "  'category_name': '음식점 > 치킨',\n",
       "  'distance': '',\n",
       "  'id': '961287831',\n",
       "  'phone': '031-215-9090',\n",
       "  'place_name': '맥쓰세계치킨 광교호수공원점',\n",
       "  'place_url': 'http://place.map.kakao.com/961287831',\n",
       "  'road_address_name': '경기 수원시 영통구 법조로 38',\n",
       "  'x': '127.06227155074092',\n",
       "  'y': '37.286899718691934'},\n",
       " {'address_name': '서울 강남구 역삼동 817-8',\n",
       "  'category_group_code': 'FD6',\n",
       "  'category_group_name': '음식점',\n",
       "  'category_name': '음식점 > 치킨',\n",
       "  'distance': '',\n",
       "  'id': '888590919',\n",
       "  'phone': '02-554-9294',\n",
       "  'place_name': '꼬꼬아찌숯불치킨 강남역점',\n",
       "  'place_url': 'http://place.map.kakao.com/888590919',\n",
       "  'road_address_name': '서울 강남구 테헤란로1길 28-1',\n",
       "  'x': '127.027652789297',\n",
       "  'y': '37.5003128050196'},\n",
       " {'address_name': '서울 성북구 안암동5가 104-41',\n",
       "  'category_group_code': 'FD6',\n",
       "  'category_group_name': '음식점',\n",
       "  'category_name': '음식점 > 치킨',\n",
       "  'distance': '',\n",
       "  'id': '946837172',\n",
       "  'phone': '02-922-0077',\n",
       "  'place_name': '삼성통닭 본점',\n",
       "  'place_url': 'http://place.map.kakao.com/946837172',\n",
       "  'road_address_name': '서울 성북구 고려대로24길 60',\n",
       "  'x': '127.029336463953',\n",
       "  'y': '37.5834566502029'},\n",
       " {'address_name': '제주특별자치도 서귀포시 성산읍 성산리 163-9',\n",
       "  'category_group_code': 'FD6',\n",
       "  'category_group_name': '음식점',\n",
       "  'category_name': '음식점 > 치킨',\n",
       "  'distance': '',\n",
       "  'id': '1438984135',\n",
       "  'phone': '064-783-7855',\n",
       "  'place_name': '마농치킨 5호점',\n",
       "  'place_url': 'http://place.map.kakao.com/1438984135',\n",
       "  'road_address_name': '제주특별자치도 서귀포시 성산읍 일출로 251',\n",
       "  'x': '126.93270094583195',\n",
       "  'y': '33.461037869518734'}]"
      ]
     },
     "execution_count": 3,
     "metadata": {},
     "output_type": "execute_result"
    }
   ],
   "source": [
    "res['documents'] # 안에 가격 데이터는 없다!"
   ]
  },
  {
   "cell_type": "code",
   "execution_count": 4,
   "metadata": {},
   "outputs": [
    {
     "data": {
      "text/plain": [
       "{'is_end': True,\n",
       " 'pageable_count': 45,\n",
       " 'same_name': {'keyword': '치킨', 'region': [], 'selected_region': ''},\n",
       " 'total_count': 56661}"
      ]
     },
     "execution_count": 4,
     "metadata": {},
     "output_type": "execute_result"
    }
   ],
   "source": [
    "res['meta']"
   ]
  },
  {
   "cell_type": "code",
   "execution_count": 5,
   "metadata": {},
   "outputs": [
    {
     "name": "stdout",
     "output_type": "stream",
     "text": [
      "{'errorType': 'InvalidArgument', 'message': 'page is more than max'}\n"
     ]
    }
   ],
   "source": [
    "params = {\n",
    "    'query': '치킨',\n",
    "    'page': 46 # 45페이지를 넘어가면 에러를 출력하게 된다!\n",
    "}\n",
    "\n",
    "res = requests.get(url, params=params, headers=headers).json()\n",
    "\n",
    "print(res)"
   ]
  },
  {
   "cell_type": "markdown",
   "metadata": {},
   "source": [
    "문제 1 : 데이터에 치킨 가격의 정보는 들어있지 않다.\n",
    "\n",
    "-> 해결 : 세부 화면에 들어가 가격정보를 긁어와(크롤링) DB 생성\n",
    "\n",
    "문제 2 : 최대 45페이지의 식당 정보밖에 가져올 수 없음\n",
    "\n",
    "-> 구역을 쪼개어(분할 검색) 데이터를 부분적으로 저장하는 형태로 진행"
   ]
  },
  {
   "cell_type": "markdown",
   "metadata": {},
   "source": [
    "## 데이터 크롤링"
   ]
  },
  {
   "cell_type": "code",
   "execution_count": 8,
   "metadata": {},
   "outputs": [],
   "source": [
    "from tinydb import TinyDB, Query\n",
    "\n",
    "db = TinyDB('db.json')"
   ]
  },
  {
   "cell_type": "code",
   "execution_count": null,
   "metadata": {},
   "outputs": [],
   "source": [
    "start_x = 126 # 126.0 - 130.0\n",
    "start_y = 33 # 33.0 - 39.0\n",
    "\n",
    "dx = 0.25 # x좌표 이동 범위\n",
    "dy = 0.25 # y좌표 이동 범위\n",
    "\n",
    "for i in tqdm(range(18)): # x축 18번 이동\n",
    "    for j in range(26): # y축 26번 이동\n",
    "        x = start_x + dx * i\n",
    "        y = start_y + dy * j\n",
    "        print(x, y)\n",
    "\n",
    "        for page in range(1, 46): # 1~45페이지까지\n",
    "            params = {\n",
    "                'query': '치킨',\n",
    "                'page': page,\n",
    "                'rect': f'{x},{y},{x + dx},{y + dy}' # 위경도\n",
    "            }\n",
    "\n",
    "            res = requests.get(url, params=params, headers=headers).json()\n",
    "            \n",
    "            if len(res['documents']) == 0:\n",
    "                break\n",
    "\n",
    "            for doc in res['documents']: # 크롤링\n",
    "                place_name = doc['place_name']\n",
    "\n",
    "                detail_url = f'https://place.map.kakao.com/main/v/{doc[\"id\"]}' # id가 들어가면 json 형태로 넘어옴 (카카오에서 이상하게 만든듯)\n",
    "\n",
    "                data = requests.get(detail_url, headers=headers).json()\n",
    "\n",
    "                if 'menuInfo' not in data:\n",
    "                    continue\n",
    "\n",
    "                menu_list = data['menuInfo']['menuList']\n",
    "\n",
    "                for menu_item in menu_list:\n",
    "                    price = 0\n",
    "                    if 'price' in menu_item:\n",
    "                        price = int(menu_item['price'].replace(',', '')) # 가격을 int형변환\n",
    "\n",
    "                    db.insert({ # db에 데이터 저장\n",
    "                        'place_name': place_name,\n",
    "                        'menu': menu_item['menu'],\n",
    "                        'price': price\n",
    "                    })\n",
    "                \n",
    "                time.sleep(5) # ip 차단을 위해 5초 대기\n",
    "\n",
    "            if res['meta']['is_end']:\n",
    "                break"
   ]
  },
  {
   "cell_type": "markdown",
   "metadata": {},
   "source": [
    "## DB 활용"
   ]
  },
  {
   "cell_type": "code",
   "execution_count": 9,
   "metadata": {},
   "outputs": [
    {
     "data": {
      "text/plain": [
       "<TinyDB tables=['_default'], tables_count=1, default_table_documents_count=56202, all_tables_documents_count=['_default=56202']>"
      ]
     },
     "execution_count": 9,
     "metadata": {},
     "output_type": "execute_result"
    }
   ],
   "source": [
    "db # db에는 56202개의 데이터를 포함하고 있다."
   ]
  },
  {
   "cell_type": "code",
   "execution_count": 10,
   "metadata": {},
   "outputs": [
    {
     "data": {
      "text/plain": [
       "[{'place_name': '돌담너머바다 판포점', 'menu': '돔베 스테이크', 'price': 39000},\n",
       " {'place_name': '마담나탈리소셜클럽', 'menu': '글렌피딕 15Y', 'price': 250000},\n",
       " {'place_name': '인판포', 'menu': '바베큐 플레이터', 'price': 60000},\n",
       " {'place_name': '인판포', 'menu': '마라소라새우', 'price': 40000},\n",
       " {'place_name': '제마닭', 'menu': '닭도리탕(대)', 'price': 36000},\n",
       " {'place_name': '제마닭', 'menu': '꽃도리탕(중)', 'price': 38000},\n",
       " {'place_name': '제마닭', 'menu': '꽃도리탕(대)', 'price': 48000},\n",
       " {'place_name': '먹고정', 'menu': '백돼지한근반', 'price': 63000},\n",
       " {'place_name': '먹고정', 'menu': '백돼지한근', 'price': 42000},\n",
       " {'place_name': '먹고정', 'menu': '흑돼지한근반', 'price': 80000},\n",
       " {'place_name': '먹고정', 'menu': '흑돼지한근', 'price': 54000},\n",
       " {'place_name': '모루쿠다', 'menu': '모루쿠다 육합', 'price': 40000},\n",
       " {'place_name': '원조장수통닭', 'menu': '토종닭', 'price': 60000},\n",
       " {'place_name': '원조장수통닭', 'menu': '오리주물럭', 'price': 60000},\n",
       " {'place_name': '진솔통닭', 'menu': '토종닭(1마리)', 'price': 60000},\n",
       " {'place_name': '진솔통닭', 'menu': '오리(1마리)', 'price': 60000},\n",
       " {'place_name': '오름지미정원', 'menu': '찹스테이크 (320g)', 'price': 36000},\n",
       " {'place_name': '홍대감더덕토종닭', 'menu': '누룽지더덕토종닭', 'price': 60000},\n",
       " {'place_name': '화덕에꾸운닭 전남담양점', 'menu': '랍스터 치킨', 'price': 38000},\n",
       " {'place_name': '다사랑양념통닭', 'menu': '토종백숙', 'price': 40000},\n",
       " {'place_name': '아웃닭 신촌역점', 'menu': '오리지날 레드핀 양념치킨', 'price': 187000},\n",
       " {'place_name': '누구나홀딱반한닭 홍대점', 'menu': '바사칸치빵파티', 'price': 36900},\n",
       " {'place_name': '마녀커리크림치킨 본점', 'menu': '3-4인세트 Best3', 'price': 40000},\n",
       " {'place_name': '크치치킨 경희대점', 'menu': '치킨세트D', 'price': 37000},\n",
       " {'place_name': '누구나홀딱반한닭 선릉점', 'menu': '바사칸치빵파티', 'price': 38900},\n",
       " {'place_name': '풍미통닭', 'menu': '풍미스페셜세트', 'price': 49000},\n",
       " {'place_name': '원조꼬끼오옛날통닭', 'menu': '감자튀김', 'price': 60000},\n",
       " {'place_name': '산내돌짜장', 'menu': '매운돼지갈비찜 (큰대)', 'price': 39000},\n",
       " {'place_name': '서울치킨', 'menu': '옻닭', 'price': 40000},\n",
       " {'place_name': '평화닭갈비', 'menu': '닭볶음탕', 'price': 50000},\n",
       " {'place_name': '영자네', 'menu': '닭볶음탕(4인기준)', 'price': 47000},\n",
       " {'place_name': '우정통닭', 'menu': '산오징어', 'price': 40000},\n",
       " {'place_name': '우정통닭', 'menu': '광어사시미', 'price': 50000},\n",
       " {'place_name': '우정통닭', 'menu': '감성동사시미', 'price': 60000},\n",
       " {'place_name': '산골펜션가든', 'menu': '토종닭', 'price': 60000},\n",
       " {'place_name': '산골펜션가든', 'menu': '토종닭볶음', 'price': 60000},\n",
       " {'place_name': '화덕에꾸운닭 강원홍천점', 'menu': '랍스터 치킨', 'price': 38000},\n",
       " {'place_name': '길성이 원주점', 'menu': '누룽지 닭 백숙', 'price': 40000},\n",
       " {'place_name': '길성이 원주점', 'menu': '누룽지 오리 백숙', 'price': 50000},\n",
       " {'place_name': '길성이 원주점', 'menu': '오리주물럭(대)', 'price': 50000},\n",
       " {'place_name': '길성이 원주점', 'menu': '전복오리탕', 'price': 55000},\n",
       " {'place_name': '길성이 원주점', 'menu': '해물영계탕', 'price': 50000},\n",
       " {'place_name': '화덕에꾸운닭 창원진동점', 'menu': '랍스터 치킨', 'price': 38000},\n",
       " {'place_name': '하이네켄라운지', 'menu': 'SET1', 'price': 53000},\n",
       " {'place_name': '하이네켄라운지', 'menu': 'SET2', 'price': 50000},\n",
       " {'place_name': '하이네켄라운지', 'menu': 'SET3', 'price': 49000},\n",
       " {'place_name': '하이네켄라운지', 'menu': 'SET4', 'price': 48000},\n",
       " {'place_name': '화월통닭집', 'menu': '촌닭백숙', 'price': 40000},\n",
       " {'place_name': '앗싸마늘닭 본점', 'menu': '앗싸 스페셜 두마리 치찜세트', 'price': 37900},\n",
       " {'place_name': '안동찜닭원조', 'menu': '안동찜닭(대)', 'price': 45000},\n",
       " {'place_name': '황포식당', 'menu': '모듬조개구이(소)', 'price': 50000},\n",
       " {'place_name': '바드리산장모텔 바드리식당', 'menu': '한방백숙 촌닭', 'price': 40000},\n",
       " {'place_name': '바드리산장모텔 바드리식당', 'menu': '숙박+야외 6인평상', 'price': 50000},\n",
       " {'place_name': '바드리산장모텔 바드리식당', 'menu': '바다장어구이(국내 자연산)', 'price': 40000},\n",
       " {'place_name': '바드리산장모텔 바드리식당',\n",
       "  'menu': '숙박+야외(대형)참숯바베큐세트+평상',\n",
       "  'price': 70000},\n",
       " {'place_name': '바드리산장모텔 바드리식당', 'menu': '숙박+야외 참숯바베큐세트+6인평상', 'price': 60000},\n",
       " {'place_name': '산위에통나무집', 'menu': '닭백숙', 'price': 45000},\n",
       " {'place_name': '산위에통나무집', 'menu': '오리백숙', 'price': 45000},\n",
       " {'place_name': '산위에통나무집', 'menu': '옻닭', 'price': 45000},\n",
       " {'place_name': '산위에통나무집', 'menu': '엄계닭', 'price': 45000},\n",
       " {'place_name': '빅대디', 'menu': '4인세트', 'price': 44500},\n",
       " {'place_name': '영양바베큐&뭉티기', 'menu': '한우 뭉티기', 'price': 40000},\n",
       " {'place_name': '영양바베큐&뭉티기', 'menu': '양지오드레기', 'price': 40000}]"
      ]
     },
     "execution_count": 10,
     "metadata": {},
     "output_type": "execute_result"
    }
   ],
   "source": [
    "db.search(Query().price > 35000) # 35000원이 초과하는 데이터를 탐색"
   ]
  },
  {
   "cell_type": "code",
   "execution_count": 11,
   "metadata": {},
   "outputs": [
    {
     "data": {
      "text/plain": [
       "[{'place_name': '화덕에꾸운닭 전남담양점', 'menu': '랍스터 치킨', 'price': 38000},\n",
       " {'place_name': '아웃닭 신촌역점', 'menu': '오리지날 레드핀 양념치킨', 'price': 187000},\n",
       " {'place_name': '누구나홀딱반한닭 홍대점', 'menu': '바사칸치빵파티', 'price': 36900},\n",
       " {'place_name': '크치치킨 경희대점', 'menu': '치킨세트D', 'price': 37000},\n",
       " {'place_name': '누구나홀딱반한닭 선릉점', 'menu': '바사칸치빵파티', 'price': 38900},\n",
       " {'place_name': '화덕에꾸운닭 강원홍천점', 'menu': '랍스터 치킨', 'price': 38000},\n",
       " {'place_name': '화덕에꾸운닭 창원진동점', 'menu': '랍스터 치킨', 'price': 38000},\n",
       " {'place_name': '앗싸마늘닭 본점', 'menu': '앗싸 스페셜 두마리 치찜세트', 'price': 37900}]"
      ]
     },
     "execution_count": 11,
     "metadata": {},
     "output_type": "execute_result"
    }
   ],
   "source": [
    "db.search((Query().price > 35000) & (Query().menu.search('치'))) # 35000원이 초과 & 메뉴에 치가 포함된 데이터 탐색"
   ]
  },
  {
   "cell_type": "code",
   "execution_count": 12,
   "metadata": {},
   "outputs": [
    {
     "name": "stdout",
     "output_type": "stream",
     "text": [
      "치킨 22670개의 평균 가격은 17762.21원 입니다\n"
     ]
    }
   ],
   "source": [
    "chickens = db.search(Query().menu.search('치'))\n",
    "\n",
    "prices = []\n",
    "\n",
    "for chicken in chickens:\n",
    "    prices.append(chicken['price'])\n",
    "    \n",
    "avg_price = sum(prices) / len(prices)\n",
    "\n",
    "print('치킨 %d개의 평균 가격은 %.2f원 입니다' % (len(chickens), avg_price))"
   ]
  },
  {
   "cell_type": "markdown",
   "metadata": {},
   "source": [
    "### Matplot.lib를 활용하여 그래프로 표기"
   ]
  },
  {
   "cell_type": "code",
   "execution_count": 13,
   "metadata": {},
   "outputs": [
    {
     "data": {
      "text/plain": [
       "<matplotlib.axes._subplots.AxesSubplot at 0x221ac9edb50>"
      ]
     },
     "execution_count": 13,
     "metadata": {},
     "output_type": "execute_result"
    },
    {
     "data": {
      "image/png": "[encoded data removed]",
      "text/plain": [
       "<Figure size 1440x720 with 1 Axes>"
      ]
     },
     "metadata": {
      "needs_background": "light"
     },
     "output_type": "display_data"
    }
   ],
   "source": [
    "import seaborn as sns\n",
    "import matplotlib.pyplot as plt\n",
    "\n",
    "fig, ax = plt.subplots(figsize=(20, 10))\n",
    "sns.histplot(x=prices, ax=ax)"
   ]
  }
 ],
 "metadata": {
  "interpreter": {
   "hash": "2b6024cb2edbfebdd70461c66559173aa04dec10d8798ddfdc8d51cdb4582a6b"
  },
  "kernelspec": {
   "display_name": "Python 3.9.0 64-bit",
   "name": "python3"
  },
  "language_info": {
   "codemirror_mode": {
    "name": "ipython",
    "version": 3
   },
   "file_extension": ".py",
   "mimetype": "text/x-python",
   "name": "python",
   "nbconvert_exporter": "python",
   "pygments_lexer": "ipython3",
   "version": "3.9.0"
  },
  "orig_nbformat": 4
 },
 "nbformat": 4,
 "nbformat_minor": 2
}
